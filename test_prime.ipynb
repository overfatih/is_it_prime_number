{
 "cells": [
  {
   "cell_type": "code",
   "execution_count": 31,
   "id": "c4b29c12",
   "metadata": {},
   "outputs": [],
   "source": [
    "import unittest\n",
    "import time\n",
    "from prime import (\n",
    "    is_prime_with_math_lib,\n",
    "    is_prime_with_sqrt_2,\n",
    "    is_prime_with_half_of_number,\n",
    ")"
   ]
  },
  {
   "cell_type": "code",
   "execution_count": 46,
   "id": "9d92982a",
   "metadata": {},
   "outputs": [
    {
     "name": "stderr",
     "output_type": "stream",
     "text": [
      ".\n",
      "----------------------------------------------------------------------\n",
      "Ran 1 test in 0.212s\n",
      "\n",
      "OK\n"
     ]
    },
    {
     "name": "stdout",
     "output_type": "stream",
     "text": [
      "Test completed in 0.2112 seconds.\n"
     ]
    }
   ],
   "source": [
    "class TestPrimeNumbersWithMathLib(unittest.TestCase):\n",
    "\n",
    "    def test_primes_in_range_with_math_lib(self):\n",
    "        start_time = time.time()  # Testin başlangıç zamanını al\n",
    "\n",
    "        # 1 ile 100000 arasındaki sayıları kontrol et\n",
    "        for num in range(1, 100000):\n",
    "            result = is_prime_with_math_lib(num)\n",
    "            # Asal olmayan sayıları yazdır\n",
    "            #if not result:\n",
    "                #print(f\"{num} is not prime.\")\n",
    "        \n",
    "        end_time = time.time()  # Testin bitiş zamanını al\n",
    "        elapsed_time = end_time - start_time  # Test süresini hesapla\n",
    "        print(f\"Test completed in {elapsed_time:.4f} seconds.\")\n",
    "        \n",
    "# Testi manuel olarak çalıştır\n",
    "if __name__ == '__main__':\n",
    "    suite = unittest.TestLoader().loadTestsFromTestCase(TestPrimeNumbersWithMathLib)\n",
    "    unittest.TextTestRunner().run(suite)"
   ]
  },
  {
   "cell_type": "code",
   "execution_count": 47,
   "id": "8cc28380",
   "metadata": {},
   "outputs": [
    {
     "name": "stderr",
     "output_type": "stream",
     "text": [
      ".\n",
      "----------------------------------------------------------------------\n",
      "Ran 1 test in 0.214s\n",
      "\n",
      "OK\n"
     ]
    },
    {
     "name": "stdout",
     "output_type": "stream",
     "text": [
      "Test completed in 0.2132 seconds.\n"
     ]
    }
   ],
   "source": [
    "class TestPrimeNumbersWithSqrt2(unittest.TestCase):\n",
    "    \n",
    "    def test_primes_in_range_with_sqrt_2(self):\n",
    "        start_time = time.time()  # Testin başlangıç zamanını al\n",
    "\n",
    "        # 1 ile 100000 arasındaki sayıları kontrol et\n",
    "        for num in range(1, 100000):\n",
    "            result = is_prime_with_sqrt_2(num)\n",
    "            # Asal olmayan sayıları yazdır\n",
    "            #if not result:\n",
    "                #print(f\"{num} is not prime.\")\n",
    "        \n",
    "        end_time = time.time()  # Testin bitiş zamanını al\n",
    "        elapsed_time = end_time - start_time  # Test süresini hesapla\n",
    "        print(f\"Test completed in {elapsed_time:.4f} seconds.\")\n",
    "        \n",
    "# Testi manuel olarak çalıştır\n",
    "if __name__ == '__main__':\n",
    "    suite = unittest.TestLoader().loadTestsFromTestCase(TestPrimeNumbersWithSqrt2)\n",
    "    unittest.TextTestRunner().run(suite)"
   ]
  },
  {
   "cell_type": "code",
   "execution_count": 48,
   "id": "2ad1723f",
   "metadata": {},
   "outputs": [
    {
     "name": "stderr",
     "output_type": "stream",
     "text": [
      ".\n",
      "----------------------------------------------------------------------\n",
      "Ran 1 test in 18.926s\n",
      "\n",
      "OK\n"
     ]
    },
    {
     "name": "stdout",
     "output_type": "stream",
     "text": [
      "Test completed in 18.9242 seconds.\n"
     ]
    }
   ],
   "source": [
    "class TestPrimeNumbersHalfOfNumber(unittest.TestCase):\n",
    "        \n",
    "    def test_primes_in_range_half_of_number(self):\n",
    "        start_time = time.time()  # Testin başlangıç zamanını al\n",
    "\n",
    "        # 1 ile 100000 arasındaki sayıları kontrol et\n",
    "        for num in range(1, 100000):\n",
    "            result = is_prime_with_half_of_number(num)\n",
    "            # Asal olmayan sayıları yazdır\n",
    "            #if not result:\n",
    "                #print(f\"{num} is not prime.\")\n",
    "        \n",
    "        end_time = time.time()  # Testin bitiş zamanını al\n",
    "        elapsed_time = end_time - start_time  # Test süresini hesapla\n",
    "        print(f\"Test completed in {elapsed_time:.4f} seconds.\")\n",
    "\n",
    "# Testi manuel olarak çalıştır\n",
    "if __name__ == '__main__':\n",
    "    suite = unittest.TestLoader().loadTestsFromTestCase(TestPrimeNumbersHalfOfNumber)\n",
    "    unittest.TextTestRunner().run(suite)"
   ]
  },
  {
   "cell_type": "code",
   "execution_count": null,
   "id": "ac1448a4",
   "metadata": {},
   "outputs": [],
   "source": []
  },
  {
   "cell_type": "code",
   "execution_count": null,
   "id": "ca4e1071",
   "metadata": {},
   "outputs": [],
   "source": []
  }
 ],
 "metadata": {
  "kernelspec": {
   "display_name": "Python 3 (ipykernel)",
   "language": "python",
   "name": "python3"
  },
  "language_info": {
   "codemirror_mode": {
    "name": "ipython",
    "version": 3
   },
   "file_extension": ".py",
   "mimetype": "text/x-python",
   "name": "python",
   "nbconvert_exporter": "python",
   "pygments_lexer": "ipython3",
   "version": "3.11.5"
  }
 },
 "nbformat": 4,
 "nbformat_minor": 5
}
