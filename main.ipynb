{
 "cells": [
  {
   "cell_type": "code",
   "execution_count": 65,
   "id": "a0dc3f6a",
   "metadata": {},
   "outputs": [
    {
     "name": "stdout",
     "output_type": "stream",
     "text": [
      "Bir sayı girin: 10\n",
      "10 is divisible by 2\n",
      "10 is not prime.\n"
     ]
    }
   ],
   "source": [
    "import math\n",
    "\n",
    "def is_prime(n: int) -> bool:\n",
    "    if n < 2:\n",
    "        return False\n",
    "    for i in range(2, int(math.sqrt(n)) + 1):\n",
    "        if n % i == 0:\n",
    "            print(f\"{x} is divisible by {i}\")\n",
    "            return False\n",
    "    return True\n",
    "\n",
    "def get_positive_integer(prompt: str = \"Bir sayı girin: \") -> int:\n",
    "    while True:\n",
    "        try:\n",
    "            num = int(input(prompt))\n",
    "            if num < 0:\n",
    "                print(\"Lütfen pozitif bir sayı girin.\")\n",
    "                continue\n",
    "            return num\n",
    "        except ValueError:\n",
    "            print(\"Geçersiz giriş! Lütfen bir tam sayı girin.\")\n",
    "\n",
    "# Kullanıcıdan giriş al\n",
    "x = get_positive_integer()\n",
    "\n",
    "# Asallık kontrolü ve sonuç\n",
    "if is_prime(x):\n",
    "    print(f\"{x} is prime.\")\n",
    "else:\n",
    "    print(f\"{x} is not prime.\")\n"
   ]
  },
  {
   "cell_type": "code",
   "execution_count": null,
   "id": "1fd08aaa",
   "metadata": {},
   "outputs": [],
   "source": []
  }
 ],
 "metadata": {
  "kernelspec": {
   "display_name": "Python 3 (ipykernel)",
   "language": "python",
   "name": "python3"
  },
  "language_info": {
   "codemirror_mode": {
    "name": "ipython",
    "version": 3
   },
   "file_extension": ".py",
   "mimetype": "text/x-python",
   "name": "python",
   "nbconvert_exporter": "python",
   "pygments_lexer": "ipython3",
   "version": "3.11.5"
  }
 },
 "nbformat": 4,
 "nbformat_minor": 5
}
