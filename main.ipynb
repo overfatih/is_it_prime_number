{
 "cells": [
  {
   "cell_type": "code",
   "execution_count": 2,
   "id": "53354ac3",
   "metadata": {},
   "outputs": [],
   "source": [
    "from prime import *"
   ]
  },
  {
   "cell_type": "code",
   "execution_count": 4,
   "id": "e863bc1a",
   "metadata": {},
   "outputs": [
    {
     "name": "stdout",
     "output_type": "stream",
     "text": [
      "Bir sayı girin: 123456789\n",
      "123456789 is not prime.\n"
     ]
    }
   ],
   "source": [
    "def get_positive_integer(prompt: str = \"Bir sayı girin: \") -> int:\n",
    "    while True:\n",
    "        try:\n",
    "            num = int(input(prompt))\n",
    "            if num < 0:\n",
    "                print(\"Lütfen pozitif bir sayı girin.\")\n",
    "                continue\n",
    "            return num\n",
    "        except ValueError:\n",
    "            print(\"Geçersiz giriş! Lütfen bir tam sayı girin.\")\n",
    "\n",
    "# Kullanıcıdan giriş al\n",
    "x = get_positive_integer()\n",
    "\n",
    "# Asallık kontrolü ve sonuç\n",
    "if is_prime_with_math_lib(x):\n",
    "    print(f\"{x} is prime.\")\n",
    "else:\n",
    "    print(f\"{x} is not prime.\")"
   ]
  },
  {
   "cell_type": "code",
   "execution_count": null,
   "id": "8e71aac4",
   "metadata": {},
   "outputs": [],
   "source": []
  }
 ],
 "metadata": {
  "kernelspec": {
   "display_name": "Python 3 (ipykernel)",
   "language": "python",
   "name": "python3"
  },
  "language_info": {
   "codemirror_mode": {
    "name": "ipython",
    "version": 3
   },
   "file_extension": ".py",
   "mimetype": "text/x-python",
   "name": "python",
   "nbconvert_exporter": "python",
   "pygments_lexer": "ipython3",
   "version": "3.11.5"
  }
 },
 "nbformat": 4,
 "nbformat_minor": 5
}
